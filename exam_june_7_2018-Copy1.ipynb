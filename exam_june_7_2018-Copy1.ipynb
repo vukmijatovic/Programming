{
 "cells": [
  {
   "cell_type": "markdown",
   "metadata": {},
   "source": [
    "Before you turn this problem in, make sure everything runs as expected. First, **restart the kernel** (in the menubar, select Kernel$\\rightarrow$Restart) and then **run all cells** (in the menubar, select Cell$\\rightarrow$Run All).\n",
    "\n",
    "Make sure you fill in any place that says `YOUR CODE HERE` or \"YOUR ANSWER HERE\", as well as your name and collaborators below:"
   ]
  },
  {
   "cell_type": "code",
   "execution_count": 1,
   "metadata": {},
   "outputs": [],
   "source": [
    "NAME = \"Vuk Mijatovic\", #2009138#\n",
    "COLLABORATORS = \"Adrian Krsmanovic\", #2003118#"
   ]
  },
  {
   "cell_type": "markdown",
   "metadata": {},
   "source": [
    "---"
   ]
  },
  {
   "cell_type": "markdown",
   "metadata": {},
   "source": [
    "Fill in the cell above to provide us with your name and student number, like\n",
    "\n",
    "NAME = \"Adam Smith, #student number#\"\n",
    "\n",
    "where you replace \"#student number#\" with your ... (very good!)\n",
    "\n",
    "and if you are doing this with someone else (not more than one other person):\n",
    "\n",
    "COLLABORATORS = \"Karl Marx, #student number#\""
   ]
  },
  {
   "cell_type": "markdown",
   "metadata": {
    "deletable": false,
    "editable": false,
    "nbgrader": {
     "checksum": "a7ae5c69becf064d614c6c38935eca51",
     "grade": false,
     "grade_id": "cell-895e9a7b94992ec9",
     "locked": true,
     "schema_version": 1,
     "solution": false
    }
   },
   "source": [
    "# exam June 7th, 2018\n"
   ]
  },
  {
   "cell_type": "markdown",
   "metadata": {
    "deletable": false,
    "editable": false,
    "nbgrader": {
     "checksum": "bc48d165f54aa364aa34509649fcdef5",
     "grade": false,
     "grade_id": "cell-540987818af25557",
     "locked": true,
     "schema_version": 1,
     "solution": false
    }
   },
   "source": [
    "\n",
    "In the first cell of the notebook, give us your name and student number in the way indicated above. If you do this notebook with --at max.-- one other student, give her/his name and student number as well under \"COLLABORATORS\".\n",
    "\n",
    "Fill in the notebook (see below for code cells and text cells that you need to fill in).\n",
    "\n",
    "If you look at the menus above (File, Edit, View etc.), there is one called \"Cell\". If you click on this, you can change the \"Cell Type\". Choose \"Code\" when you are typing python or R code. Choose \"Markdown\" when you are typing, well, markdown.\n",
    "\n",
    "When you finish the notebook, make sure that you **save it with the output of your code included**. \n",
    "\n",
    "Then put it on github, e.g. by dragging it onto github (see instructions below). \n",
    "\n",
    "Finally, add a link to your README file with the name of this exam: \"Exam June 7, 2018\".\n",
    "\n"
   ]
  },
  {
   "cell_type": "markdown",
   "metadata": {
    "deletable": false,
    "editable": false,
    "nbgrader": {
     "checksum": "6fad9bed312da1b0097e9c520b18e3fb",
     "grade": false,
     "grade_id": "cell-e1cf88cb799f1f43",
     "locked": true,
     "schema_version": 1,
     "solution": false
    }
   },
   "source": [
    "## price effects of mergers\n",
    "\n",
    "We consider a merger in this notebook. \n",
    "\n",
    "First we calculate the equilibrium with three firms, denoted by 1, 2 and 3. Then firms 2 and 3 merge so that we are left with 2 firms; denoted by 1 and 2.\n",
    "\n",
    "We calculate the effects of the merger on the equilibrium price.\n",
    "\n",
    "We start by importing the usual libraries."
   ]
  },
  {
   "cell_type": "code",
   "execution_count": 18,
   "metadata": {
    "deletable": false,
    "editable": false,
    "nbgrader": {
     "checksum": "7bd770ef54db47c3b6c8d0e31f6baef6",
     "grade": false,
     "grade_id": "cell-b895769bf40e183a",
     "locked": true,
     "schema_version": 1,
     "solution": false
    }
   },
   "outputs": [],
   "source": [
    "import matplotlib.pyplot as plt\n",
    "import pandas as pd\n",
    "import numpy as np\n",
    "from scipy import optimize\n",
    "%matplotlib inline"
   ]
  },
  {
   "cell_type": "markdown",
   "metadata": {},
   "source": [
    "The following code helps to calculate the equilibrium for the case with 3 firms. Note that you have seen similar code during the tutorials to calculate the equilibrium with 2 firms.\n",
    "\n",
    "We assume that before the merger each firm has constant marginal costs equal to 0.3. We assume a simple linear (inverse) demand curve of the form $p=1-Q$ where $p$ denotes price and $Q$ total output on the market. Total output equals the sum of each firm's output: $Q= q_1 + q_2+q_3$."
   ]
  },
  {
   "cell_type": "code",
   "execution_count": 19,
   "metadata": {
    "deletable": false,
    "editable": false,
    "nbgrader": {
     "checksum": "3e30f7ac9d9155ef089b8ca56a0c0436",
     "grade": false,
     "grade_id": "cell-f97a25efed556fd2",
     "locked": true,
     "schema_version": 1,
     "solution": false
    }
   },
   "outputs": [],
   "source": [
    "c0 = 0.3\n",
    "vector_c = [c0]*3\n",
    "\n",
    "def p(Q):\n",
    "    return 1 - Q\n",
    "\n",
    "def costs(q,c):\n",
    "    return c*q\n",
    "\n",
    "def profits(q,Q_other,c):\n",
    "    return p(q+Q_other)*q-costs(q,c)\n",
    "\n",
    "def reaction(Q_other,c):\n",
    "    q1 =  optimize.fminbound(lambda x: -profits(x,Q_other,c),0,1,full_output=1)\n",
    "    return q1[0]\n",
    "\n",
    "def fixed_point_three_firms(vector_q,vector_c):\n",
    "    return [vector_q[0]-reaction(vector_q[1]+vector_q[2],vector_c[0]),\n",
    "            vector_q[1]-reaction(vector_q[0]+vector_q[2],vector_c[1]),\n",
    "            vector_q[2]-reaction(vector_q[0]+vector_q[1],vector_c[2])]\n",
    "\n"
   ]
  },
  {
   "cell_type": "markdown",
   "metadata": {
    "deletable": false,
    "editable": false,
    "nbgrader": {
     "checksum": "f6ea3b2416aca7293a5450c45865f242",
     "grade": false,
     "grade_id": "cell-83284c4090d6de8c",
     "locked": true,
     "schema_version": 1,
     "solution": false
    }
   },
   "source": [
    "#### a) [0.5 points] Show that total equilibrium output equals  0.525. Derive the equilibrium price and Herfindahl index; denote these by `P0` and `H0` resp."
   ]
  },
  {
   "cell_type": "code",
   "execution_count": 4,
   "metadata": {
    "deletable": false,
    "nbgrader": {
     "checksum": "a06d73c35395adb00480733b458cb4a5",
     "grade": true,
     "grade_id": "cell-3b8ee172d9950128",
     "locked": false,
     "points": 0.5,
     "schema_version": 1,
     "solution": true
    }
   },
   "outputs": [
    {
     "name": "stdout",
     "output_type": "stream",
     "text": [
      "0.475\n",
      "0.32670000000000005\n",
      "0.525\n"
     ]
    }
   ],
   "source": [
    "# YOUR CODE HERE\n",
    "init_guess = [0, 0, 0]\n",
    "\n",
    "quantity_first_firm = optimize.fsolve(lambda vector_q: fixed_point_three_firms(vector_q, vector_c), init_guess)\n",
    "total_equilibrium = quantity_first_firm[0] + quantity_first_firm[1] +quantity_first_firm[2]\n",
    "\n",
    "P0 = p(.525)\n",
    "H0 = 0.33**2 + 0.33**2 + 0.33**2\n",
    "\n",
    "print(P0)\n",
    "print(H0)\n",
    "print(total_equilibrium)\n"
   ]
  },
  {
   "cell_type": "markdown",
   "metadata": {
    "deletable": false,
    "editable": false,
    "nbgrader": {
     "checksum": "87b3b3e0e2d645c280e279312e489dc4",
     "grade": false,
     "grade_id": "cell-4b33762aa4a601fe",
     "locked": true,
     "schema_version": 1,
     "solution": false
    }
   },
   "source": [
    "#### b) [0.5 point] Define a function `fixed_point_two_firms` with the same structure as the function `fixed_point_three_firms` above, except that it derives the equilibrium output levels for a duopoly (two firms). Test this function by showing that each of the two firms produces 0.3333 in case both firms have zero costs."
   ]
  },
  {
   "cell_type": "code",
   "execution_count": 13,
   "metadata": {
    "deletable": false,
    "nbgrader": {
     "checksum": "024a1519155d681b57c85292df535a65",
     "grade": true,
     "grade_id": "cell-5ee215676b91f504",
     "locked": false,
     "points": 0.5,
     "schema_version": 1,
     "solution": true
    }
   },
   "outputs": [
    {
     "name": "stdout",
     "output_type": "stream",
     "text": [
      "[0.33333333 0.33333333]\n",
      "[0, 0]\n"
     ]
    }
   ],
   "source": [
    "# YOUR CODE HERE\n",
    "def fixed_point_two_firms(vector_q,vector_c):\n",
    "    return [vector_q[0]-reaction(vector_q[1],vector_c[0]),\n",
    "            vector_q[1]-reaction(vector_q[0],vector_c[1])]\n",
    "\n",
    "initial_guess = [0, 0]\n",
    "\n",
    "quntity_two_firms = optimize.fsolve(lambda vector_q: fixed_point_two_firms(vector_q, initial_guess), initial_guess)\n",
    "print (quntity_two_firms)\n",
    "print(initial_guess)\n"
   ]
  },
  {
   "cell_type": "markdown",
   "metadata": {
    "deletable": false,
    "editable": false,
    "nbgrader": {
     "checksum": "5291fc8716e367572fde17ebe5844d2f",
     "grade": false,
     "grade_id": "cell-c2fada02efd7b197",
     "locked": true,
     "schema_version": 1,
     "solution": false
    }
   },
   "source": [
    "The Dutch competition authority, ACM, is asked to evaluate the effects of a merger between firms 2 and 3. Firms 2 and 3 claim that by merging they can reduce their constant marginal costs. But it is not clear by how much they will reduce their costs.\n",
    "\n",
    "The ACM assumes that the marginal cost level of the merged firm is uniformly distributed between 0 and the current marginal cost level `c0`. The merger will not affect the marginal cost level of firm 1 who does not merge. Firm 1's cost level remains `c0`.\n",
    "\n",
    "The next cell generates a vector of cost levels for the merged firm, denoted `c_after_merger`. Evaluate \"c_after_merger\" in a separate cell if you do not understand the command that defines it.\n",
    "\n",
    "Then it calculates the equilibrium output levels for (the non-merging) firm 1 and (the merged) firm 2.\n",
    "\n",
    "Note that you need to specify `initial_guess`.\n"
   ]
  },
  {
   "cell_type": "code",
   "execution_count": 6,
   "metadata": {
    "deletable": false,
    "editable": false,
    "nbgrader": {
     "checksum": "11299317cd53e31de9900700999b0324",
     "grade": false,
     "grade_id": "cell-ce91ab3e3225c57d",
     "locked": true,
     "schema_version": 1,
     "solution": false
    }
   },
   "outputs": [],
   "source": [
    "c_after_merger = np.random.uniform(0,c0,size = 100)\n",
    "\n",
    "q1_after_merger = [optimize.fsolve(lambda q: fixed_point_two_firms(q,[c0,c]), initial_guess)[0] for c in c_after_merger]\n",
    "q2_after_merger = [optimize.fsolve(lambda q: fixed_point_two_firms(q,[c0,c]), initial_guess)[1] for c in c_after_merger]\n",
    "\n",
    "\n"
   ]
  },
  {
   "cell_type": "markdown",
   "metadata": {
    "deletable": false,
    "editable": false,
    "nbgrader": {
     "checksum": "2b518306d6ff20ee42d0bc3085333095",
     "grade": false,
     "grade_id": "cell-0acc18b4f07a09f4",
     "locked": true,
     "schema_version": 1,
     "solution": false
    }
   },
   "source": [
    "#### c) [0.5 points] Create a dataframe called `df_after_merger` with three columns: `c_merged_firm`, `output_non_merging_firm`, `output_merged_firm` containing resp. the cost level of the merged firm, the output level of firm 1 and the output level of firm 2."
   ]
  },
  {
   "cell_type": "code",
   "execution_count": 14,
   "metadata": {
    "deletable": false,
    "nbgrader": {
     "checksum": "f4fc6a3bdef91fa3f656ccd3290c9f54",
     "grade": true,
     "grade_id": "cell-f3eacda828774f2d",
     "locked": false,
     "points": 0.5,
     "schema_version": 1,
     "solution": true
    }
   },
   "outputs": [
    {
     "name": "stdout",
     "output_type": "stream",
     "text": [
      "    c_merged_firm  output_non_merging_firm  output_merged_firm\n",
      "0            0.00                 0.150403            0.399194\n",
      "1            0.01                 0.153497            0.393006\n",
      "2            0.02                 0.186258            0.327484\n",
      "3            0.03                 0.187826            0.324347\n",
      "4            0.04                 0.200421            0.299158\n",
      "5            0.05                 0.168934            0.362132\n",
      "6            0.06                 0.157350            0.385300\n",
      "7            0.07                 0.198749            0.302501\n",
      "8            0.08                 0.191306            0.317388\n",
      "9            0.09                 0.210519            0.278962\n",
      "10           0.10                 0.181875            0.336251\n",
      "11           0.11                 0.217343            0.265313\n",
      "12           0.12                 0.176800            0.346400\n",
      "13           0.13                 0.218148            0.263705\n",
      "14           0.14                 0.162670            0.374660\n",
      "15           0.15                 0.206150            0.287701\n",
      "16           0.16                 0.203383            0.293234\n",
      "17           0.17                 0.190923            0.318155\n",
      "18           0.18                 0.175972            0.348057\n",
      "19           0.19                 0.141685            0.416631\n",
      "20           0.20                 0.179374            0.341251\n",
      "21           0.21                 0.174908            0.350183\n",
      "22           0.22                 0.181458            0.337084\n",
      "23           0.23                 0.139476            0.421049\n",
      "24           0.24                 0.198387            0.303226\n",
      "25           0.25                 0.231817            0.236365\n",
      "26           0.26                 0.231753            0.236494\n",
      "27           0.27                 0.198787            0.302427\n",
      "28           0.28                 0.215408            0.269184\n",
      "29           0.29                 0.192067            0.315865\n",
      "30           0.30                 0.233049            0.233902\n",
      "31           0.31                 0.180780            0.338439\n",
      "32           0.32                 0.154864            0.390272\n",
      "33           0.33                 0.230175            0.239650\n",
      "34           0.34                 0.222663            0.254675\n",
      "35           0.35                 0.150161            0.399679\n",
      "36           0.36                 0.231575            0.236849\n",
      "37           0.37                 0.184491            0.331017\n",
      "38           0.38                 0.201383            0.297233\n",
      "39           0.39                 0.201738            0.296524\n",
      "40           0.40                 0.199369            0.301262\n",
      "41           0.41                 0.165748            0.368503\n",
      "42           0.42                 0.203200            0.293600\n",
      "43           0.43                 0.170748            0.358504\n",
      "44           0.44                 0.204720            0.290559\n",
      "45           0.45                 0.231244            0.237512\n",
      "46           0.46                 0.173169            0.353662\n",
      "47           0.47                 0.199910            0.300180\n",
      "48           0.48                 0.198615            0.302770\n",
      "49           0.49                 0.203044            0.293913\n"
     ]
    }
   ],
   "source": [
    "# YOUR CODE HERE\n",
    "import numpy as np\n",
    "initial_guess = [0, 0, 0]\n",
    "\n",
    "df_after_merger = pd.DataFrame(columns = [\"c_merged_firm\", \"output_non_merging_firm\", \"output_merged_firm\"])\n",
    "\n",
    "c_am_firm2_firm1 = np.arange(0, .51, .01)\n",
    "\n",
    "for i in range(0, 50):\n",
    "    df_after_merger.loc[i] = [c_am_firm2_firm1[i], q1_after_merger[i],  q2_after_merger[i]]\n",
    "\n",
    "print(df_after_merger)"
   ]
  },
  {
   "cell_type": "markdown",
   "metadata": {
    "deletable": false,
    "editable": false,
    "nbgrader": {
     "checksum": "a5bf4171960844da9c57375d83b6eedf",
     "grade": false,
     "grade_id": "cell-7ad058be42e19df8",
     "locked": true,
     "schema_version": 1,
     "solution": false
    }
   },
   "source": [
    "#### d) [0.5 points] Add three columns to the dataframe with resp. total equilibrium output on the market, `Q`, equilibrium price, `P` and the Herfindahl index, `H`."
   ]
  },
  {
   "cell_type": "code",
   "execution_count": 15,
   "metadata": {
    "deletable": false,
    "nbgrader": {
     "checksum": "ab6179623b39a6ae634abea45326e4ab",
     "grade": true,
     "grade_id": "cell-9c39b11747803ca1",
     "locked": false,
     "points": 0.5,
     "schema_version": 1,
     "solution": true
    }
   },
   "outputs": [
    {
     "name": "stdout",
     "output_type": "stream",
     "text": [
      "    c_merged_firm  output_non_merging_firm  output_merged_firm         Q  \\\n",
      "0            0.00                 0.150403            0.399194  0.549597   \n",
      "1            0.01                 0.153497            0.393006  0.546503   \n",
      "2            0.02                 0.186258            0.327484  0.513742   \n",
      "3            0.03                 0.187826            0.324347  0.512174   \n",
      "4            0.04                 0.200421            0.299158  0.499579   \n",
      "5            0.05                 0.168934            0.362132  0.531066   \n",
      "6            0.06                 0.157350            0.385300  0.542650   \n",
      "7            0.07                 0.198749            0.302501  0.501251   \n",
      "8            0.08                 0.191306            0.317388  0.508694   \n",
      "9            0.09                 0.210519            0.278962  0.489481   \n",
      "10           0.10                 0.181875            0.336251  0.518125   \n",
      "11           0.11                 0.217343            0.265313  0.482657   \n",
      "12           0.12                 0.176800            0.346400  0.523200   \n",
      "13           0.13                 0.218148            0.263705  0.481852   \n",
      "14           0.14                 0.162670            0.374660  0.537330   \n",
      "15           0.15                 0.206150            0.287701  0.493850   \n",
      "16           0.16                 0.203383            0.293234  0.496617   \n",
      "17           0.17                 0.190923            0.318155  0.509077   \n",
      "18           0.18                 0.175972            0.348057  0.524028   \n",
      "19           0.19                 0.141685            0.416631  0.558315   \n",
      "20           0.20                 0.179374            0.341251  0.520626   \n",
      "21           0.21                 0.174908            0.350183  0.525092   \n",
      "22           0.22                 0.181458            0.337084  0.518542   \n",
      "23           0.23                 0.139476            0.421049  0.560524   \n",
      "24           0.24                 0.198387            0.303226  0.501613   \n",
      "25           0.25                 0.231817            0.236365  0.468183   \n",
      "26           0.26                 0.231753            0.236494  0.468247   \n",
      "27           0.27                 0.198787            0.302427  0.501213   \n",
      "28           0.28                 0.215408            0.269184  0.484592   \n",
      "29           0.29                 0.192067            0.315865  0.507933   \n",
      "30           0.30                 0.233049            0.233902  0.466951   \n",
      "31           0.31                 0.180780            0.338439  0.519220   \n",
      "32           0.32                 0.154864            0.390272  0.545136   \n",
      "33           0.33                 0.230175            0.239650  0.469825   \n",
      "34           0.34                 0.222663            0.254675  0.477337   \n",
      "35           0.35                 0.150161            0.399679  0.549839   \n",
      "36           0.36                 0.231575            0.236849  0.468425   \n",
      "37           0.37                 0.184491            0.331017  0.515509   \n",
      "38           0.38                 0.201383            0.297233  0.498617   \n",
      "39           0.39                 0.201738            0.296524  0.498262   \n",
      "40           0.40                 0.199369            0.301262  0.500631   \n",
      "41           0.41                 0.165748            0.368503  0.534252   \n",
      "42           0.42                 0.203200            0.293600  0.496800   \n",
      "43           0.43                 0.170748            0.358504  0.529252   \n",
      "44           0.44                 0.204720            0.290559  0.495280   \n",
      "45           0.45                 0.231244            0.237512  0.468756   \n",
      "46           0.46                 0.173169            0.353662  0.526831   \n",
      "47           0.47                 0.199910            0.300180  0.500090   \n",
      "48           0.48                 0.198615            0.302770  0.501385   \n",
      "49           0.49                 0.203044            0.293913  0.496956   \n",
      "\n",
      "           P         H  \n",
      "0   0.450403  0.110378  \n",
      "1   0.453497  0.117025  \n",
      "2   0.486258  0.212313  \n",
      "3   0.487826  0.218323  \n",
      "4   0.500421  0.273154  \n",
      "5   0.468934  0.155595  \n",
      "6   0.457350  0.125775  \n",
      "7   0.498749  0.265136  \n",
      "8   0.491306  0.232258  \n",
      "9   0.510519  0.327349  \n",
      "10  0.481875  0.196359  \n",
      "11  0.517343  0.370546  \n",
      "12  0.476800  0.179316  \n",
      "13  0.518148  0.376044  \n",
      "14  0.462670  0.138778  \n",
      "15  0.506150  0.302609  \n",
      "16  0.503383  0.287985  \n",
      "17  0.490923  0.230681  \n",
      "18  0.475972  0.176669  \n",
      "19  0.441685  0.093312  \n",
      "20  0.479374  0.187778  \n",
      "21  0.474908  0.173325  \n",
      "22  0.481458  0.194904  \n",
      "23  0.439476  0.089350  \n",
      "24  0.498387  0.263431  \n",
      "25  0.531817  0.485638  \n",
      "26  0.531753  0.485041  \n",
      "27  0.498787  0.265313  \n",
      "28  0.515408  0.357683  \n",
      "29  0.492067  0.235423  \n",
      "30  0.533049  0.497269  \n",
      "31  0.480780  0.192558  \n",
      "32  0.454864  0.120068  \n",
      "33  0.530175  0.470641  \n",
      "34  0.522663  0.408693  \n",
      "35  0.450161  0.109871  \n",
      "36  0.531575  0.483394  \n",
      "37  0.484491  0.205738  \n",
      "38  0.501383  0.277883  \n",
      "39  0.501738  0.279646  \n",
      "40  0.499369  0.268079  \n",
      "41  0.465748  0.146829  \n",
      "42  0.503200  0.287045  \n",
      "43  0.470748  0.160795  \n",
      "44  0.504720  0.294959  \n",
      "45  0.531244  0.480339  \n",
      "46  0.473169  0.167982  \n",
      "47  0.499910  0.270676  \n",
      "48  0.498615  0.264503  \n",
      "49  0.503044  0.286244  \n"
     ]
    }
   ],
   "source": [
    "# YOUR CODE HERE\n",
    "initial_guess = [0, 0, 0]\n",
    "\n",
    "df_after_merger = pd.DataFrame(columns = ['c_merged_firm', \n",
    "                                          'output_non_merging_firm', \n",
    "                                          'output_merged_firm', \n",
    "                                          'Q', \n",
    "                                          'P', \n",
    "                                          'H'])\n",
    "\n",
    "c_am = np.arange(0, .51, .01)\n",
    "\n",
    "for i in range(0,50):\n",
    "    df_after_merger.loc[i] = [c_am[i], q1_after_merger[i], \n",
    "                              q2_after_merger[i], \n",
    "                              (q1_after_merger[i]+q2_after_merger[i]), \n",
    "                              (1-(q1_after_merger[i]+q2_after_merger[i])), \n",
    "                             ((q1_after_merger[i]/(q1_after_merger[i]+q2_after_merger[i]))**2 + (q1_after_merger[i]/(q2_after_merger[i]+q2_after_merger[i]))**2 )]\n",
    "\n",
    "\n",
    "print(df_after_merger)"
   ]
  },
  {
   "cell_type": "markdown",
   "metadata": {},
   "source": [
    "#### e) [0.5 points] Make a histogram of the equilibrium price `P` after the merger. Also indicate in the histogram the equilibrium price before the merger `P0`. Label the horizontal axis with $P$.\n",
    "\n",
    "[hint: you may want to use matplotlib's `hist`, `vlines` and `legend` to make this graph (e.g use google to find these functions); but feel free to use something else]"
   ]
  },
  {
   "cell_type": "code",
   "execution_count": 16,
   "metadata": {
    "deletable": false,
    "nbgrader": {
     "checksum": "b103cd98545261b20f937f4b9db67f68",
     "grade": true,
     "grade_id": "cell-f9193bf8e71f1a9a",
     "locked": false,
     "points": 0.5,
     "schema_version": 1,
     "solution": true
    }
   },
   "outputs": [
    {
     "data": {
      "text/plain": [
       "<matplotlib.legend.Legend at 0xaf35c50>"
      ]
     },
     "execution_count": 16,
     "metadata": {},
     "output_type": "execute_result"
    },
    {
     "data": {
      "image/png": "[encoded data removed]",
      "text/plain": [
       "<matplotlib.figure.Figure at 0xaeed978>"
      ]
     },
     "metadata": {},
     "output_type": "display_data"
    }
   ],
   "source": [
    "# YOUR CODE HERE\n",
    "import numpy as np\n",
    "import matplotlib.pyplot as plt\n",
    "\n",
    "df_after_merger.hist(column = 'P', color = \"red\")\n",
    "plt.axvline(P0, c = \"black\", linewidth = 1.5, label = \"P0\")\n",
    "plt.legend()\n"
   ]
  },
  {
   "cell_type": "markdown",
   "metadata": {},
   "source": [
    "#### f) [0.5 points] Explain why sometimes the equilibrium price after the merger exceeds the equilibrium price before the merger and sometimes it is lower than the pre-merger price. [hint: there is a trade off between two effects, depending on which effect dominates, equilibrium price increases or decreases after the merger]"
   ]
  },
  {
   "cell_type": "markdown",
   "metadata": {
    "deletable": false,
    "nbgrader": {
     "checksum": "dd9fc721b7cf7f66587e93cbfb758034",
     "grade": true,
     "grade_id": "cell-7a1f367cd2854156",
     "locked": false,
     "points": 0.5,
     "schema_version": 1,
     "solution": true
    }
   },
   "source": [
    "In these cases, there are trade offs between the income and substitution effect,which take place when mergers occur, and  determine where the new price will be compared to old equilibrium. "
   ]
  },
  {
   "cell_type": "markdown",
   "metadata": {
    "deletable": false,
    "editable": false,
    "nbgrader": {
     "checksum": "e1e41dbf14c605bf91cdc78f70eada99",
     "grade": false,
     "grade_id": "cell-06ed6044f8938a45",
     "locked": true,
     "schema_version": 1,
     "solution": false
    }
   },
   "source": [
    "#### g) [0.5 points] Make a graph with the Herfindahl index on the horizontal axis and the equilibrium price on the vertical axis. This is straightforward for $(H,P)$ after the merger as both values are in the dataframe. Add in another color, the pre-merger combination `(H0,P0)` that we calculated above."
   ]
  },
  {
   "cell_type": "code",
   "execution_count": 17,
   "metadata": {
    "deletable": false,
    "nbgrader": {
     "checksum": "51cfaacbaf533e85d9794bc74712afd5",
     "grade": true,
     "grade_id": "cell-d647464d04870b73",
     "locked": false,
     "points": 0.5,
     "schema_version": 1,
     "solution": true
    }
   },
   "outputs": [
    {
     "data": {
      "text/plain": [
       "[<matplotlib.lines.Line2D at 0xafb4630>]"
      ]
     },
     "execution_count": 17,
     "metadata": {},
     "output_type": "execute_result"
    },
    {
     "data": {
      "image/png": "[encoded data removed]",
      "text/plain": [
       "<matplotlib.figure.Figure at 0xaf17eb8>"
      ]
     },
     "metadata": {},
     "output_type": "display_data"
    }
   ],
   "source": [
    "# YOUR CODE HERE\n",
    "import matplotlib.pyplot as plt\n",
    "\n",
    "plt.title(\"Graph\")\n",
    "plt.plot(df_after_merger.H, df_after_merger.P, color = \"black\", linewidth = 0.5)\n",
    "plt.plot(H0, P0, \"ro\")"
   ]
  },
  {
   "cell_type": "markdown",
   "metadata": {
    "deletable": false,
    "editable": false,
    "nbgrader": {
     "checksum": "11b6609131b1c25886f2c6cafe0f7a59",
     "grade": false,
     "grade_id": "cell-5c5e5776a7c135a2",
     "locked": true,
     "schema_version": 1,
     "solution": false
    }
   },
   "source": [
    "#### h) [0.5 points] Use the graph under g) to discuss the relation between the Herfindahl index and the equilibrium price. To illustrate, some people think that lower values of the Herfindahl index are associated with more competitive outcome. Would you agree with this?"
   ]
  },
  {
   "cell_type": "markdown",
   "metadata": {
    "collapsed": true,
    "deletable": false,
    "nbgrader": {
     "checksum": "3d396887dde3b00420c623b9f4ea8ed2",
     "grade": true,
     "grade_id": "cell-cbd89d483b23a953",
     "locked": false,
     "points": 0.5,
     "schema_version": 1,
     "solution": true
    }
   },
   "source": [
    "Herfindahl Index is a measure of size of firm inrelation to industry. It is used as an indicator of ammount of competition between firms. \n",
    "\n",
    "The statement is true. Herfindahl Index ranges from 1/N to 1, where N signifies number of firms in amarket. The greater the competition  (associated with number of firms), the smaller the Herfindahl Index will be. "
   ]
  },
  {
   "cell_type": "markdown",
   "metadata": {},
   "source": [
    "## Github\n",
    "\n",
    "After you have finished, we need to upload this notebook on github. Make sure that you upload the file on the github page of each collaborator."
   ]
  },
  {
   "cell_type": "markdown",
   "metadata": {},
   "source": [
    "Instructions on how to upload this on github can be found [on this page](http://janboone.github.io/programming-for-economists/github.html). This page has two screencasts: one shows how to drag the notebook onto your github page, the other shows how you can use the command line to upload your notebook.\n"
   ]
  },
  {
   "cell_type": "markdown",
   "metadata": {},
   "source": [
    "Remember to update the README file in your repository to include a link to this notebook on github.\n",
    "\n",
    "\n",
    "The links that you should post start with “github.com/” and are NOT of the form “http://localhost”. Make sure you test your links after uploading."
   ]
  },
  {
   "cell_type": "code",
   "execution_count": null,
   "metadata": {},
   "outputs": [],
   "source": []
  }
 ],
 "metadata": {
  "anaconda-cloud": {},
  "kernelspec": {
   "display_name": "Python 3",
   "language": "python",
   "name": "python3"
  },
  "language_info": {
   "codemirror_mode": {
    "name": "ipython",
    "version": 3
   },
   "file_extension": ".py",
   "mimetype": "text/x-python",
   "name": "python",
   "nbconvert_exporter": "python",
   "pygments_lexer": "ipython3",
   "version": "3.6.4"
  }
 },
 "nbformat": 4,
 "nbformat_minor": 1
}
